{
 "cells": [
  {
   "cell_type": "markdown",
   "id": "af8f8e0a",
   "metadata": {},
   "source": [
    "# Understanding Bayes' Rule\n",
    "\n",
    "Bayes' Rule describes how to update the probability of an event \\(A\\) based on new evidence \\(B\\). It is given by the following formula:\n",
    "\n",
    "$$\n",
    "P(A|B) = \\frac{P(B|A) \\cdot P(A)}{P(B)}\n",
    "$$\n",
    "\n",
    "Where:\n",
    "- \\(P(A|B)\\): The **posterior probability**, or the probability of event \\(A\\) occurring given that \\(B\\) has occurred.\n",
    "- \\(P(B|A)\\): The **likelihood**, or the probability of observing \\(B\\) given that \\(A\\) is true.\n",
    "- \\(P(A)\\): The **prior probability**, or the initial probability of event \\(A\\).\n",
    "- \\(P(B)\\): The **evidence**, or the total probability of observing \\(B\\).\n",
    "\n",
    "### Example: COVID-19 Testing\n",
    "\n",
    "Let's apply Bayes' Rule to the case of a **COVID-19 test**. Suppose:\n",
    "- \\(P(D)\\) is the **prior probability** that a person has COVID-19 (prevalence).\n",
    "- \\(P(P|D)\\) is the **likelihood** that a person with COVID-19 tests positive.\n",
    "- \\(P(P)\\) is the total probability that anyone tests positive.\n",
    "\n",
    "Using Bayes' Rule, we calculate the **posterior probability**:\n",
    "\n",
    "$$\n",
    "P(D|P) = \\frac{P(P|D) \\cdot P(D)}{P(P)}\n",
    "$$\n",
    "\n",
    "Where:\n",
    "- \\(P(D|P)\\) is the probability that the person has COVID-19 given a positive test result.\n",
    "- \\(P(P|D)\\) is the probability that the person tests positive given they have COVID-19 (True Positive Rate).\n",
    "- \\(P(D)\\) is the prior probability that a person has COVID-19.\n",
    "- \\(P(P)\\) is the total probability of a positive test result."
   ]
  },
  {
   "cell_type": "code",
   "execution_count": 1,
   "id": "7a5d350b",
   "metadata": {},
   "outputs": [
    {
     "name": "stdout",
     "output_type": "stream",
     "text": [
      "Probability of having the disease given a positive test: 0.1667\n"
     ]
    }
   ],
   "source": [
    "# Bayes' Rule: Disease Testing Example\n",
    "\n",
    "# Given values\n",
    "P_disease = 0.01         # 1% of population has the disease\n",
    "P_positive_given_disease = 0.99  # True positive rate (sensitivity)\n",
    "P_positive_given_no_disease = 0.05  # False positive rate (1 - specificity)\n",
    "\n",
    "# Step 1: Compute P(positive)\n",
    "P_no_disease = 1 - P_disease\n",
    "P_positive = (P_positive_given_disease * P_disease) + (P_positive_given_no_disease * P_no_disease)\n",
    "\n",
    "# Step 2: Apply Bayes' Rule\n",
    "P_disease_given_positive = (P_positive_given_disease * P_disease) / P_positive\n",
    "\n",
    "# Output\n",
    "print(f\"Probability of having the disease given a positive test: {P_disease_given_positive:.4f}\")"
   ]
  },
  {
   "cell_type": "markdown",
   "id": "99ae14af",
   "metadata": {},
   "source": [
    "# Floating-point Math problems\n",
    "\n",
    "## Why do languages like Python, C, C++, etc. struggle with floating-point math?\n",
    "\n",
    "The issue is not a bug, but a fundamental limitation of how floating-point numbers are represented in binary.\n",
    "\n",
    "### 1. Floating-point numbers ≠ real numbers\n",
    "\n",
    "Computers use finite binary representations to approximate real numbers. But many simple decimal numbers (like `0.1`, `0.01`, `0.3`) cannot be exactly represented in binary — just like 1/3 can't be exactly written in decimal (`0.333...`).\n",
    "\n",
    "### 2. Example: Decimal 0.1 in binary\n",
    "\n",
    "In binary, `0.1` becomes a repeating fraction:\n",
    "\n",
    "$$\n",
    "0.1_{10} = 0.00011001100110011001100…_2\n",
    "$$\n",
    "\n",
    "It repeats forever. But the computer can only store a finite number of bits, so it rounds to the nearest available binary float.\n",
    "\n",
    "So even though you typed 0.1, internally it’s stored more like:\n",
    "\n",
    "```python\n",
    "0.10000000000000000555...\n",
    "```\n",
    "\n",
    "### 3. These small rounding errors add up\n",
    "\n",
    "When you perform math operations (like Bayes' Rule), especially involving multiplication or subtraction of very close values, these rounding errors become visible:\n",
    "\n",
    "```python\n",
    ">>> 0.1 + 0.2\n",
    "0.30000000000000004\n",
    "```\n",
    "\n",
    "### 4. Why doesn’t Python \"just round it off\"?\n",
    "\n",
    "Python does round when printing — most of the time.\n",
    "\n",
    "```python\n",
    ">>> print(0.1 + 0.2)\n",
    "0.3\n",
    "```\n",
    "\n",
    "But:\n",
    "- When inspecting the raw value (`repr()`), you’ll see the full precision.\n",
    "- Sometimes cumulative operations (like in loops or stats) make the error visible even when printing."
   ]
  },
  {
   "cell_type": "markdown",
   "id": "c5982707",
   "metadata": {},
   "source": [
    "## Basic Calculation Example\n",
    "\n",
    "Let’s perform some basic operations with `0.1` and `0.2` to see how floating-point imprecision shows up."
   ]
  },
  {
   "cell_type": "code",
   "execution_count": 3,
   "id": "4266fc03",
   "metadata": {},
   "outputs": [
    {
     "data": {
      "text/plain": [
       "0.30000000000000004"
      ]
     },
     "execution_count": 3,
     "metadata": {},
     "output_type": "execute_result"
    }
   ],
   "source": [
    "# Basic floating-point calculation: 0.1 + 0.2\n",
    "result = 0.1 + 0.2\n",
    "result"
   ]
  },
  {
   "cell_type": "markdown",
   "id": "5ceedef3",
   "metadata": {},
   "source": [
    "As you can see, the result is `0.30000000000000004` instead of exactly `0.3`. This happens due to how the numbers are represented internally.\n",
    "\n",
    "---\n",
    "\n",
    "## Rounding in Python\n",
    "\n",
    "While floating-point imprecision is unavoidable in most cases, we can use Python's built-in `round()` function to round the result for display purposes. Let's see an example."
   ]
  },
  {
   "cell_type": "code",
   "execution_count": 4,
   "id": "204d2018",
   "metadata": {},
   "outputs": [
    {
     "data": {
      "text/plain": [
       "0.3"
      ]
     },
     "execution_count": 4,
     "metadata": {},
     "output_type": "execute_result"
    }
   ],
   "source": [
    "# Round the result to 2 decimal places\n",
    "rounded_result = round(result, 2)\n",
    "rounded_result"
   ]
  },
  {
   "cell_type": "markdown",
   "id": "00305148",
   "metadata": {},
   "source": [
    "By rounding the result to 2 decimal places, we get `0.3`, which is the expected result. This is helpful when you're only concerned with **displaying** the result, not with the exact internal representation.\n",
    "\n",
    "---\n",
    "\n",
    "## Visualizing Floating-Point Precision in Calculations\n",
    "\n",
    "Finally, let’s create a plot to visualize how the floating-point error grows over multiple operations. We'll compute the sum of `0.1` added to itself multiple times and see how the error accumulates."
   ]
  },
  {
   "cell_type": "code",
   "execution_count": 6,
   "id": "c4919664",
   "metadata": {},
   "outputs": [
    {
     "data": {
      "image/png": "[encoded data removed]",
      "text/plain": [
       "<Figure size 640x480 with 1 Axes>"
      ]
     },
     "metadata": {},
     "output_type": "display_data"
    }
   ],
   "source": [
    "import matplotlib.pyplot as plt\n",
    "\n",
    "# Calculate cumulative sum of 0.1 added 1000 times\n",
    "errors = []\n",
    "sum_value = 0\n",
    "for i in range(1000):\n",
    "    sum_value += 0.1\n",
    "    errors.append(abs(sum_value - (i + 1) * 0.1))  # Error compared to the expected value\n",
    "\n",
    "# Plot the error\n",
    "plt.plot(errors)\n",
    "plt.title('Accumulating Error in Floating-Point Operations')\n",
    "plt.xlabel('Number of Operations')\n",
    "plt.ylabel('Error')\n",
    "plt.show()\n"
   ]
  },
  {
   "cell_type": "markdown",
   "id": "bbc3379f",
   "metadata": {},
   "source": [
    "In the plot, you can see how the floating-point error grows with each addition of `0.1`. Even though `0.1` is a simple number, its representation in binary causes small errors to accumulate over many operations.\n",
    "\n",
    "---\n",
    "\n",
    "## Conclusion\n",
    "\n",
    "- Floating-point imprecision is a result of how numbers are stored in binary.\n",
    "- For simple operations, the error might be negligible, but for more complex calculations (like Bayes' Rule or statistical models), the error can accumulate.\n",
    "- Use rounding for display purposes, the `decimal` module for high precision, and `math.isclose()` for comparisons.\n",
    "\n",
    "This is just the beginning of understanding floating-point arithmetic and how it affects computational models. We’ll continue exploring how to mitigate these issues in more advanced algorithms."
   ]
  },
  {
   "cell_type": "markdown",
   "id": "27af06e6",
   "metadata": {},
   "source": []
  }
 ],
 "metadata": {
  "kernelspec": {
   "display_name": "Python 3",
   "language": "python",
   "name": "python3"
  },
  "language_info": {
   "codemirror_mode": {
    "name": "ipython",
    "version": 3
   },
   "file_extension": ".py",
   "mimetype": "text/x-python",
   "name": "python",
   "nbconvert_exporter": "python",
   "pygments_lexer": "ipython3",
   "version": "3.12.1"
  }
 },
 "nbformat": 4,
 "nbformat_minor": 5
}
